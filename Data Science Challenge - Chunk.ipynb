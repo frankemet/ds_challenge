{
 "cells": [
  {
   "cell_type": "code",
   "execution_count": 1,
   "id": "bc310c2a",
   "metadata": {},
   "outputs": [],
   "source": [
    "import pandas as pd"
   ]
  },
  {
   "cell_type": "code",
   "execution_count": 2,
   "id": "37c56b0b",
   "metadata": {},
   "outputs": [
    {
     "name": "stdout",
     "output_type": "stream",
     "text": [
      "total 2027664\r\n",
      "-rw-r--r--@ 1 Franklin  staff   529M May 20  2021 bookings.csv.bz2\r\n",
      "-rw-r--r--@ 1 Franklin  staff   461M May 20  2021 searches.csv.bz2\r\n"
     ]
    }
   ],
   "source": [
    "!ls -lh /Users/Franklin/Studies/master_datascience/data/master_data/challenge"
   ]
  },
  {
   "cell_type": "code",
   "execution_count": 3,
   "id": "12a70e64",
   "metadata": {},
   "outputs": [],
   "source": [
    "bookings_data = pd.read_csv('/Users/Franklin/Studies/master_datascience/data/master_data/challenge/bookings.csv.bz2', sep = \"^\", iterator = True, chunksize=1000)\n",
    "pd.set_option(\"display.max_columns\", None)"
   ]
  },
  {
   "cell_type": "code",
   "execution_count": 4,
   "id": "3a97a58f",
   "metadata": {},
   "outputs": [
    {
     "data": {
      "text/plain": [
       "<pandas.io.parsers.TextFileReader at 0x118cd9970>"
      ]
     },
     "execution_count": 4,
     "metadata": {},
     "output_type": "execute_result"
    }
   ],
   "source": [
    "bookings_data"
   ]
  },
  {
   "cell_type": "code",
   "execution_count": 5,
   "id": "1f58b887",
   "metadata": {},
   "outputs": [],
   "source": [
    "bookings_data_full = pd.concat(bookings_data, ignore_index=True)"
   ]
  },
  {
   "cell_type": "code",
   "execution_count": 6,
   "id": "083cee76",
   "metadata": {},
   "outputs": [],
   "source": [
    "bookings_data_full.columns = bookings_data_full.columns.str.rstrip()"
   ]
  },
  {
   "cell_type": "code",
   "execution_count": 7,
   "id": "07fa19b1",
   "metadata": {},
   "outputs": [],
   "source": [
    "result_1 = bookings_data_full.groupby('arr_port')['pax'].sum().sort_values(ascending=False)[:10]"
   ]
  },
  {
   "cell_type": "code",
   "execution_count": 9,
   "id": "fc84c180",
   "metadata": {},
   "outputs": [
    {
     "name": "stdout",
     "output_type": "stream",
     "text": [
      "LHR      airport received 88809.0 passengers\n",
      "MCO      airport received 70930.0 passengers\n",
      "LAX      airport received 70530.0 passengers\n",
      "LAS      airport received 69630.0 passengers\n",
      "JFK      airport received 66270.0 passengers\n",
      "CDG      airport received 64490.0 passengers\n",
      "BKK      airport received 59460.0 passengers\n",
      "MIA      airport received 58150.0 passengers\n",
      "SFO      airport received 58000.0 passengers\n",
      "DXB      airport received 55590.0 passengers\n"
     ]
    }
   ],
   "source": [
    "for index, value in result_1.items():\n",
    "    print((index), \"airport received\", (value), \"passengers\")"
   ]
  },
  {
   "cell_type": "code",
   "execution_count": null,
   "id": "8de1ae65",
   "metadata": {},
   "outputs": [],
   "source": []
  }
 ],
 "metadata": {
  "kernelspec": {
   "display_name": "Python 3",
   "language": "python",
   "name": "python3"
  },
  "language_info": {
   "codemirror_mode": {
    "name": "ipython",
    "version": 3
   },
   "file_extension": ".py",
   "mimetype": "text/x-python",
   "name": "python",
   "nbconvert_exporter": "python",
   "pygments_lexer": "ipython3",
   "version": "3.8.8"
  }
 },
 "nbformat": 4,
 "nbformat_minor": 5
}
